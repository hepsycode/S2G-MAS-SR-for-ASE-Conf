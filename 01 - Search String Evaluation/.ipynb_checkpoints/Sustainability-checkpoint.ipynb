{
 "cells": [
  {
   "cell_type": "code",
   "execution_count": 5,
   "id": "b6fedb2f-029a-4a45-94ec-0c31fa9883a6",
   "metadata": {},
   "outputs": [
    {
     "name": "stdout",
     "output_type": "stream",
     "text": [
      "Saved to 'aggregated_emissions_summary.csv'\n"
     ]
    }
   ],
   "source": [
    "import os\n",
    "import pandas as pd\n",
    "\n",
    "# Columns to sum and to find the maximum\n",
    "sum_columns = [\"duration\", \"emissions\", \"cpu_energy\", \"gpu_energy\", \"ram_energy\", \"energy_consumed\"]\n",
    "max_columns = [\"emissions_rate\", \"cpu_power\", \"gpu_power\", \"ram_power\"]\n",
    "\n",
    "# List to collect results\n",
    "results = []\n",
    "\n",
    "# Root directory to start the search\n",
    "root_path = os.path.join(os.getcwd(), \"Model-driven engineering for digital twins\")  # <-- Replace with your actual path\n",
    "\n",
    "# Walk through the filesystem\n",
    "for dirpath, dirnames, filenames in os.walk(root_path):\n",
    "    if \"emissions.csv\" in filenames:\n",
    "        file_path = os.path.join(dirpath, \"emissions.csv\")\n",
    "        try:\n",
    "            df = pd.read_csv(file_path)\n",
    "\n",
    "            # Calculate sum and max\n",
    "            sums = df[sum_columns].sum(numeric_only=True)\n",
    "            maxes = df[max_columns].max(numeric_only=True)\n",
    "\n",
    "            # Split folder path into levels relative to root_path\n",
    "            relative_path = os.path.relpath(dirpath, root_path)\n",
    "            folder_parts = relative_path.split(os.sep)\n",
    "\n",
    "            # Prepare record with dynamic folder level columns\n",
    "            record = {f\"level_{i+1}\": folder for i, folder in enumerate(folder_parts)}\n",
    "            record[\"folder_path\"] = dirpath\n",
    "            record.update(sums.to_dict())\n",
    "            record.update(maxes.to_dict())\n",
    "\n",
    "            results.append(record)\n",
    "\n",
    "        except Exception as e:\n",
    "            print(f\"Error reading {file_path}: {e}\")\n",
    "\n",
    "# Convert results to DataFrame and save\n",
    "if results:\n",
    "    result_df = pd.DataFrame(results)\n",
    "\n",
    "    # Fill missing level columns if folder depths are uneven\n",
    "    all_levels = [col for col in result_df.columns if col.startswith(\"level_\")]\n",
    "    max_depth = max(int(col.split(\"_\")[1]) for col in all_levels)\n",
    "    for i in range(1, max_depth + 1):\n",
    "        col_name = f\"level_{i}\"\n",
    "        if col_name not in result_df.columns:\n",
    "            result_df[col_name] = None\n",
    "\n",
    "    result_df.to_csv(\"aggregated_emissions_summary.csv\", index=False)\n",
    "    print(\"Saved to 'aggregated_emissions_summary.csv'\")\n",
    "else:\n",
    "    print(\"No emissions.csv files found.\")"
   ]
  },
  {
   "cell_type": "code",
   "execution_count": null,
   "id": "f22e9ca2-1433-46bd-b878-83c37e91395f",
   "metadata": {},
   "outputs": [],
   "source": []
  }
 ],
 "metadata": {
  "kernelspec": {
   "display_name": "py39",
   "language": "python",
   "name": "py39"
  },
  "language_info": {
   "codemirror_mode": {
    "name": "ipython",
    "version": 3
   },
   "file_extension": ".py",
   "mimetype": "text/x-python",
   "name": "python",
   "nbconvert_exporter": "python",
   "pygments_lexer": "ipython3",
   "version": "3.9.19"
  }
 },
 "nbformat": 4,
 "nbformat_minor": 5
}
